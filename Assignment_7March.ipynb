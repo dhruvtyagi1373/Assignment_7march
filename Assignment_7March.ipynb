{
 "cells": [
  {
   "cell_type": "markdown",
   "id": "b78292cf-a498-47ea-86ba-4d20600f09e6",
   "metadata": {},
   "source": [
    "## Q1. What are the three measures of central tendency?"
   ]
  },
  {
   "cell_type": "raw",
   "id": "07f07642-71d8-4034-84e9-d08e3ead13d5",
   "metadata": {},
   "source": [
    "Mean,Median,Mode"
   ]
  },
  {
   "cell_type": "markdown",
   "id": "fae4479b-76e2-405f-b7a2-175d9d559fa7",
   "metadata": {},
   "source": [
    "## Q2. What is the difference between the mean, median, and mode? How are they used to measure the central tendency of a dataset?"
   ]
  },
  {
   "cell_type": "raw",
   "id": "2605ce20-a153-4548-a7f3-2af5761521d6",
   "metadata": {},
   "source": [
    "Mean gives the average value of the dataset whereas Median gives the middlemost element in the sorted dataset. Mode gives the number having maximum frequency in the dataset."
   ]
  },
  {
   "cell_type": "markdown",
   "id": "7c7b6079-fd43-42bf-a497-342d99055054",
   "metadata": {},
   "source": [
    "## Q3. Measure the three measures of central tendency for the given height data:\n",
    "[178,177,176,177,178.2,178,175,179,180,175,178.9,176.2,177,172.5,178,176.5]"
   ]
  },
  {
   "cell_type": "code",
   "execution_count": 1,
   "id": "9a4cb97d-756a-4315-a440-db9fc65b62c3",
   "metadata": {},
   "outputs": [],
   "source": [
    "lst = [178,177,176,177,178.2,178,175,179,180,175,178.9,176.2,177,172.5,178,176.5]"
   ]
  },
  {
   "cell_type": "code",
   "execution_count": 2,
   "id": "b32bbb58-7bd7-4d00-9f88-80bb20d7ab52",
   "metadata": {},
   "outputs": [
    {
     "data": {
      "text/plain": [
       "177.01875"
      ]
     },
     "execution_count": 2,
     "metadata": {},
     "output_type": "execute_result"
    }
   ],
   "source": [
    "import numpy as np\n",
    "np.mean(lst)"
   ]
  },
  {
   "cell_type": "code",
   "execution_count": 3,
   "id": "4dad84df-febd-4700-8d7b-3ca9184cbc4f",
   "metadata": {},
   "outputs": [
    {
     "data": {
      "text/plain": [
       "177.0"
      ]
     },
     "execution_count": 3,
     "metadata": {},
     "output_type": "execute_result"
    }
   ],
   "source": [
    "np.median(lst)"
   ]
  },
  {
   "cell_type": "code",
   "execution_count": 4,
   "id": "0f14cde5-10b6-45d8-bf89-ca7942ffb9be",
   "metadata": {},
   "outputs": [
    {
     "name": "stderr",
     "output_type": "stream",
     "text": [
      "/tmp/ipykernel_331/1438788903.py:2: FutureWarning: Unlike other reduction functions (e.g. `skew`, `kurtosis`), the default behavior of `mode` typically preserves the axis it acts along. In SciPy 1.11.0, this behavior will change: the default value of `keepdims` will become False, the `axis` over which the statistic is taken will be eliminated, and the value None will no longer be accepted. Set `keepdims` to True or False to avoid this warning.\n",
      "  stats.mode(lst)\n"
     ]
    },
    {
     "data": {
      "text/plain": [
       "ModeResult(mode=array([177.]), count=array([3]))"
      ]
     },
     "execution_count": 4,
     "metadata": {},
     "output_type": "execute_result"
    }
   ],
   "source": [
    "from scipy import stats\n",
    "stats.mode(lst)"
   ]
  },
  {
   "cell_type": "markdown",
   "id": "470b47c8-0db6-48e1-b407-9f07534e7ab3",
   "metadata": {
    "tags": []
   },
   "source": [
    "## Q4. Find the standard deviation for the given data:\n",
    "[178,177,176,177,178.2,178,175,179,180,175,178.9,176.2,177,172.5,178,176.5]"
   ]
  },
  {
   "cell_type": "code",
   "execution_count": 5,
   "id": "f1992420-4290-4756-bf1e-16d55b09dbf8",
   "metadata": {},
   "outputs": [],
   "source": [
    "lst1 = [178,177,176,177,178.2,178,175,179,180,175,178.9,176.2,177,172.5,178,176.5]"
   ]
  },
  {
   "cell_type": "code",
   "execution_count": 6,
   "id": "f7312eb4-ddcf-47ef-9c96-ddfcc462d49a",
   "metadata": {},
   "outputs": [
    {
     "data": {
      "text/plain": [
       "1.7885814036548633"
      ]
     },
     "execution_count": 6,
     "metadata": {},
     "output_type": "execute_result"
    }
   ],
   "source": [
    "np.std(lst1)"
   ]
  },
  {
   "cell_type": "markdown",
   "id": "e092c2a1-b8ee-4501-9f19-75532662b180",
   "metadata": {},
   "source": [
    "## Q5. How are measures of dispersion such as range, variance, and standard deviation used to describe the spread of a dataset? Provide an example."
   ]
  },
  {
   "cell_type": "code",
   "execution_count": null,
   "id": "0f45b57e-2d03-490f-8667-ac3d97f85162",
   "metadata": {},
   "outputs": [],
   "source": []
  },
  {
   "cell_type": "markdown",
   "id": "bb6aefe5-3b35-4ed0-ae59-4f15faab32ea",
   "metadata": {},
   "source": [
    "## Q6. What is a Venn diagram?"
   ]
  },
  {
   "cell_type": "raw",
   "id": "831be574-ca5e-45ea-879a-b991fbdc8bbb",
   "metadata": {},
   "source": [
    "A Venn diagram is an illustration that uses circles to show the relationships among things or finite groups of things"
   ]
  },
  {
   "cell_type": "markdown",
   "id": "ffb00def-6994-4913-885b-9dab5c3456db",
   "metadata": {},
   "source": [
    "## Q7. For the two given sets A = (2,3,4,5,6,7) & B = (0,2,6,8,10). Find:"
   ]
  },
  {
   "cell_type": "markdown",
   "id": "6745a20e-96ae-460c-9d05-0b3ad462e93c",
   "metadata": {},
   "source": [
    "## (i) A intersection B"
   ]
  },
  {
   "cell_type": "raw",
   "id": "c8e4fb70-34e9-4e44-95f4-44517e1277ac",
   "metadata": {},
   "source": [
    "(2,6)"
   ]
  },
  {
   "cell_type": "markdown",
   "id": "45f2c1f5-be54-4756-9f3c-ff331b89c261",
   "metadata": {},
   "source": [
    "## (ii) A union B"
   ]
  },
  {
   "cell_type": "raw",
   "id": "a7184747-3115-489d-bd73-6d4e3aa52a69",
   "metadata": {},
   "source": [
    "(0,2,3,4,5,6,7,8,10)"
   ]
  },
  {
   "cell_type": "markdown",
   "id": "5af2908c-2632-4a83-b444-68d2cd9881d5",
   "metadata": {},
   "source": [
    "## Q8. What do you understand about skewness in data?"
   ]
  },
  {
   "cell_type": "raw",
   "id": "e6cea378-d4d2-4d8d-9e19-f4f7108daff0",
   "metadata": {},
   "source": [
    "Skewness is a measurement of the distortion of symmetrical distribution or asymmetry in a data set. Skewness is demonstrated on a bell curve when data points are not distributed symmetrically to the left and right sides of the median on a bell curve. If the bell curve is shifted to the left or the right, it is said to be skewed."
   ]
  },
  {
   "cell_type": "markdown",
   "id": "a03ad18d-589f-4673-8ed8-296500f384de",
   "metadata": {},
   "source": [
    "## Q9. If a data is right skewed then what will be the position of median with respect to mean?"
   ]
  },
  {
   "cell_type": "raw",
   "id": "38f9747d-572b-4a28-b0f2-631a987408d9",
   "metadata": {},
   "source": [
    "median will be left of mean"
   ]
  },
  {
   "cell_type": "markdown",
   "id": "fa1468ed-361c-4d89-9da4-31fd1f83c052",
   "metadata": {},
   "source": [
    "## Q10. Explain the difference between covariance and correlation. How are these measures used in statistical analysis?"
   ]
  },
  {
   "cell_type": "raw",
   "id": "07370311-baf0-42e8-943d-5a4cce36949a",
   "metadata": {},
   "source": [
    "-> Covariance is a statistical term that refers to a systematic relationship between two random variables in which a    change in the other reflects a change in one variable.The greater this number, the more reliant the relationship. Positive covariance denotes a direct relationship and is represented by a positive number.\n",
    "A negative number, on the other hand, denotes negative covariance, which indicates an inverse relationship between the two variables. Covariance is great for defining the type of relationship, but it's terrible for interpreting the magnitude.\n",
    "-> In statistics, correlation is a measure that determines the degree to which two or more random variables move in sequence. When an equivalent movement of another variable reciprocates the movement of one variable in some way or another during the study of two variables, the variables are said to be correlated."
   ]
  },
  {
   "cell_type": "markdown",
   "id": "5dff9a0d-f9cc-437a-940b-d986f658878e",
   "metadata": {},
   "source": [
    "## Q11. What is the formula for calculating the sample mean? Provide an example calculation for a dataset."
   ]
  },
  {
   "cell_type": "code",
   "execution_count": null,
   "id": "106800aa-056f-4271-9a32-ec19310085d2",
   "metadata": {},
   "outputs": [],
   "source": []
  },
  {
   "cell_type": "markdown",
   "id": "d0710961-8d3c-4d87-9630-2702b7481b2f",
   "metadata": {},
   "source": [
    "## Q12. For a normal distribution data what is the relationship between its measure of central tendency?"
   ]
  },
  {
   "cell_type": "raw",
   "id": "05bdaba8-1aac-47c5-8803-27aa96147f10",
   "metadata": {},
   "source": [
    "Mean=Median=Mode"
   ]
  },
  {
   "cell_type": "markdown",
   "id": "6f626ff0-69f5-4812-851c-17c3c0a20af3",
   "metadata": {},
   "source": [
    "## Q13. How is covariance different from correlation?"
   ]
  },
  {
   "cell_type": "code",
   "execution_count": null,
   "id": "9acbf467-6cc3-43c8-8fab-e4a853350df4",
   "metadata": {},
   "outputs": [],
   "source": []
  },
  {
   "cell_type": "markdown",
   "id": "309995b3-8258-4d92-ab48-6d2653fb7754",
   "metadata": {},
   "source": [
    "## Q14. How do outliers affect measures of central tendency and dispersion? Provide an example."
   ]
  },
  {
   "cell_type": "raw",
   "id": "70d874bb-1579-4b77-a67d-3404a1734368",
   "metadata": {},
   "source": [
    "Outliers affect the mean value of the data but have little effect on the median or mode of a given set of data.\n",
    "Since Outliers affect the mean value so variance and Standard deviation are also affected by the outliers."
   ]
  },
  {
   "cell_type": "raw",
   "id": "a3cbbe1d-e84a-4d5b-8ccf-8be3fa86d74a",
   "metadata": {},
   "source": [
    "Eg. dataset : {1,2,3,4,5}\n",
    "   Mean = (1+2+3+4+5)/5 => Mean = 3 --------\n",
    "   Median = 3                              |\n",
    "After adding an outlier                    |\n",
    "    dataset : {1,2,3,4,5,100}              |\n",
    "    Mean = (1+2+3+4+5+100)/6 => Mean = 18 <-\n",
    "    Median = (3+4)/2 => Median = 3.5"
   ]
  }
 ],
 "metadata": {
  "kernelspec": {
   "display_name": "Python 3 (ipykernel)",
   "language": "python",
   "name": "python3"
  },
  "language_info": {
   "codemirror_mode": {
    "name": "ipython",
    "version": 3
   },
   "file_extension": ".py",
   "mimetype": "text/x-python",
   "name": "python",
   "nbconvert_exporter": "python",
   "pygments_lexer": "ipython3",
   "version": "3.10.8"
  }
 },
 "nbformat": 4,
 "nbformat_minor": 5
}
